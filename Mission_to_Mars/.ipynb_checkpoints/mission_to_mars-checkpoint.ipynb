{
 "cells": [
  {
   "cell_type": "code",
   "execution_count": 36,
   "metadata": {},
   "outputs": [],
   "source": [
    "# import all necessary libraries\n",
    "from splinter import Browser\n",
    "from bs4 import BeautifulSoup\n",
    "from webdriver_manager.chrome import ChromeDriverManager\n",
    "import selenium\n",
    "import pandas as pd\n",
    "import numpy as np\n",
    "import time"
   ]
  },
  {
   "cell_type": "code",
   "execution_count": 37,
   "metadata": {},
   "outputs": [],
   "source": [
    "# creating link variables\n",
    "NASA_MARS_NEWS_LINK=\"https://redplanetscience.com\"\n",
    "JPL_MARS_SPACE_IMAGES=\"https://spaceimages-mars.com\"\n",
    "MARS_FACTS=\"https://galaxyfacts-mars.com/\"\n",
    "MARS_HEMISPHERE=\"https://marshemispheres.com/\""
   ]
  },
  {
   "cell_type": "code",
   "execution_count": 38,
   "metadata": {},
   "outputs": [
    {
     "name": "stderr",
     "output_type": "stream",
     "text": [
      "\n",
      "\n",
      "====== WebDriver manager ======\n",
      "Current google-chrome version is 103.0.5060\n",
      "Get LATEST chromedriver version for 103.0.5060 google-chrome\n",
      "Driver [/Users/jovansandhu/.wdm/drivers/chromedriver/mac64/103.0.5060.53/chromedriver] found in cache\n"
     ]
    }
   ],
   "source": [
    "# opening the webscraping tab\n",
    "executable_path = {'executable_path': ChromeDriverManager().install()}\n",
    "browser = Browser('chrome', **executable_path, headless=False)\n",
    "time.sleep(3)"
   ]
  },
  {
   "cell_type": "code",
   "execution_count": 39,
   "metadata": {},
   "outputs": [],
   "source": [
    "#extracting information from NASA Mars News\n",
    "browser.visit(NASA_MARS_NEWS_LINK)\n",
    "html = browser.html\n",
    "soup = BeautifulSoup(html, 'html.parser')\n",
    "titles=soup.body.find_all('div',class_=\"content_title\")\n",
    "first_title=titles[0].text\n",
    "paragraphs=soup.body.find_all('div',class_=\"article_teaser_body\")\n",
    "first_paragraph=paragraphs[0].text"
   ]
  },
  {
   "cell_type": "code",
   "execution_count": 40,
   "metadata": {},
   "outputs": [],
   "source": [
    "# extravting url from JPL MARS SPACE\n",
    "browser.visit(JPL_MARS_SPACE_IMAGES)\n",
    "html = browser.html\n",
    "soup = BeautifulSoup(html, 'html.parser')\n",
    "featured_image=soup.body.find('img',class_=\"headerimage\")['src']\n",
    "featured_image_url=JPL_MARS_SPACE_IMAGES+\"/\"+featured_image"
   ]
  },
  {
   "cell_type": "code",
   "execution_count": 41,
   "metadata": {},
   "outputs": [],
   "source": [
    "# extracting tablr from MARS FACTS and then converting into html string\n",
    "MARS_FACTS_TABLE = pd.read_html(MARS_FACTS)[0]\n",
    "MARS_FACTS_TABLE_HTML=MARS_FACTS_TABLE.to_html()"
   ]
  },
  {
   "cell_type": "code",
   "execution_count": 42,
   "metadata": {},
   "outputs": [],
   "source": [
    "# finding all urls\n",
    "browser.visit(MARS_HEMISPHERE)\n",
    "html = browser.html\n",
    "soup = BeautifulSoup(html, 'html.parser')\n",
    "url_links=list(np.array(soup.body.find_all(\"a\",class_=\"itemLink\"),dtype=object)[[0,2,4,6]])\n",
    "# then getting name and url from each page\n",
    "name_list=[]\n",
    "url_list=[]\n",
    "for url in url_links:\n",
    "    link=f\"{MARS_HEMISPHERE}{url['href']}\"\n",
    "    browser.visit(link)\n",
    "    html = browser.html\n",
    "    soup = BeautifulSoup(html, 'html.parser')\n",
    "    name_list.append(\" \".join(((soup.body.find_all(\"h2\",class_=\"title\")[0].text).split(\" \"))[0:len((soup.body.find_all(\"h2\",class_=\"title\")[0].text).split(\" \"))-1]))\n",
    "    url_list.append(MARS_HEMISPHERE+(soup.body.find(\"div\",class_=\"downloads\").find(\"li\").find(\"a\")['href'])\n",
    "#putting data into dictionary\n",
    "MARS_HEMISPHERE_DICT=[]\n",
    "for name, url in zip(name_list, url_list):\n",
    "    MARS_HEMISPHERE_DICT.append({\"title\":name,\"img_url\":url})"
   ]
  },
  {
   "cell_type": "code",
   "execution_count": 9,
   "metadata": {},
   "outputs": [],
   "source": [
    "# closing webscraping program\n",
    "browser.quit()"
   ]
  },
  {
   "cell_type": "code",
   "execution_count": 54,
   "metadata": {},
   "outputs": [
    {
     "data": {
      "text/plain": [
       "'images/valles_marineris_enhanced-full.jpg'"
      ]
     },
     "execution_count": 54,
     "metadata": {},
     "output_type": "execute_result"
    }
   ],
   "source": [
    "soup.body.find(\"div\",class_=\"downloads\").find(\"li\").find(\"a\")['href']"
   ]
  },
  {
   "cell_type": "code",
   "execution_count": null,
   "metadata": {},
   "outputs": [],
   "source": []
  }
 ],
 "metadata": {
  "kernelspec": {
   "display_name": "Python [conda env:PythonData] *",
   "language": "python",
   "name": "conda-env-PythonData-py"
  },
  "language_info": {
   "codemirror_mode": {
    "name": "ipython",
    "version": 3
   },
   "file_extension": ".py",
   "mimetype": "text/x-python",
   "name": "python",
   "nbconvert_exporter": "python",
   "pygments_lexer": "ipython3",
   "version": "3.7.11"
  }
 },
 "nbformat": 4,
 "nbformat_minor": 4
}
